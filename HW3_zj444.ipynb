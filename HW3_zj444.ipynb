{
  "nbformat": 4,
  "nbformat_minor": 0,
  "metadata": {
    "kernelspec": {
      "display_name": "Python 3",
      "language": "python",
      "name": "python3"
    },
    "language_info": {
      "codemirror_mode": {
        "name": "ipython",
        "version": 3
      },
      "file_extension": ".py",
      "mimetype": "text/x-python",
      "name": "python",
      "nbconvert_exporter": "python",
      "pygments_lexer": "ipython3",
      "version": "3.7.3"
    },
    "colab": {
      "name": "HW3_zj444.ipynb",
      "provenance": [],
      "collapsed_sections": [],
      "include_colab_link": true
    },
    "widgets": {
      "application/vnd.jupyter.widget-state+json": {
        "a9635885712945c6a8c9304e4d043af3": {
          "model_module": "@jupyter-widgets/controls",
          "model_name": "HBoxModel",
          "state": {
            "_view_name": "HBoxView",
            "_dom_classes": [],
            "_model_name": "HBoxModel",
            "_view_module": "@jupyter-widgets/controls",
            "_model_module_version": "1.5.0",
            "_view_count": null,
            "_view_module_version": "1.5.0",
            "box_style": "",
            "layout": "IPY_MODEL_6c6053a03a1743259e8ce252faf95ae4",
            "_model_module": "@jupyter-widgets/controls",
            "children": [
              "IPY_MODEL_853c7aad8d3f43f389fcef27973c78e5",
              "IPY_MODEL_8768c6481e5448dabd1913f836c7ecf1"
            ]
          }
        },
        "6c6053a03a1743259e8ce252faf95ae4": {
          "model_module": "@jupyter-widgets/base",
          "model_name": "LayoutModel",
          "state": {
            "_view_name": "LayoutView",
            "grid_template_rows": null,
            "right": null,
            "justify_content": null,
            "_view_module": "@jupyter-widgets/base",
            "overflow": null,
            "_model_module_version": "1.2.0",
            "_view_count": null,
            "flex_flow": null,
            "width": null,
            "min_width": null,
            "border": null,
            "align_items": null,
            "bottom": null,
            "_model_module": "@jupyter-widgets/base",
            "top": null,
            "grid_column": null,
            "overflow_y": null,
            "overflow_x": null,
            "grid_auto_flow": null,
            "grid_area": null,
            "grid_template_columns": null,
            "flex": null,
            "_model_name": "LayoutModel",
            "justify_items": null,
            "grid_row": null,
            "max_height": null,
            "align_content": null,
            "visibility": null,
            "align_self": null,
            "height": null,
            "min_height": null,
            "padding": null,
            "grid_auto_rows": null,
            "grid_gap": null,
            "max_width": null,
            "order": null,
            "_view_module_version": "1.2.0",
            "grid_template_areas": null,
            "object_position": null,
            "object_fit": null,
            "grid_auto_columns": null,
            "margin": null,
            "display": null,
            "left": null
          }
        },
        "853c7aad8d3f43f389fcef27973c78e5": {
          "model_module": "@jupyter-widgets/controls",
          "model_name": "IntProgressModel",
          "state": {
            "_view_name": "ProgressView",
            "style": "IPY_MODEL_375e5be852da4fa5b940045b2f0b2f2a",
            "_dom_classes": [],
            "description": "",
            "_model_name": "IntProgressModel",
            "bar_style": "success",
            "max": 11855,
            "_view_module": "@jupyter-widgets/controls",
            "_model_module_version": "1.5.0",
            "value": 11855,
            "_view_count": null,
            "_view_module_version": "1.5.0",
            "orientation": "horizontal",
            "min": 0,
            "description_tooltip": null,
            "_model_module": "@jupyter-widgets/controls",
            "layout": "IPY_MODEL_95eb5f9fbfe041ce8b2b6c6d45e3ddca"
          }
        },
        "8768c6481e5448dabd1913f836c7ecf1": {
          "model_module": "@jupyter-widgets/controls",
          "model_name": "HTMLModel",
          "state": {
            "_view_name": "HTMLView",
            "style": "IPY_MODEL_93df78b37b2745ddaa29762b196b9345",
            "_dom_classes": [],
            "description": "",
            "_model_name": "HTMLModel",
            "placeholder": "​",
            "_view_module": "@jupyter-widgets/controls",
            "_model_module_version": "1.5.0",
            "value": "100% 11855/11855 [00:01&lt;00:00, 6424.56it/s]",
            "_view_count": null,
            "_view_module_version": "1.5.0",
            "description_tooltip": null,
            "_model_module": "@jupyter-widgets/controls",
            "layout": "IPY_MODEL_d76c69c5013249da876d7d8d58988659"
          }
        },
        "375e5be852da4fa5b940045b2f0b2f2a": {
          "model_module": "@jupyter-widgets/controls",
          "model_name": "ProgressStyleModel",
          "state": {
            "_view_name": "StyleView",
            "_model_name": "ProgressStyleModel",
            "description_width": "",
            "_view_module": "@jupyter-widgets/base",
            "_model_module_version": "1.5.0",
            "_view_count": null,
            "_view_module_version": "1.2.0",
            "bar_color": null,
            "_model_module": "@jupyter-widgets/controls"
          }
        },
        "95eb5f9fbfe041ce8b2b6c6d45e3ddca": {
          "model_module": "@jupyter-widgets/base",
          "model_name": "LayoutModel",
          "state": {
            "_view_name": "LayoutView",
            "grid_template_rows": null,
            "right": null,
            "justify_content": null,
            "_view_module": "@jupyter-widgets/base",
            "overflow": null,
            "_model_module_version": "1.2.0",
            "_view_count": null,
            "flex_flow": null,
            "width": null,
            "min_width": null,
            "border": null,
            "align_items": null,
            "bottom": null,
            "_model_module": "@jupyter-widgets/base",
            "top": null,
            "grid_column": null,
            "overflow_y": null,
            "overflow_x": null,
            "grid_auto_flow": null,
            "grid_area": null,
            "grid_template_columns": null,
            "flex": null,
            "_model_name": "LayoutModel",
            "justify_items": null,
            "grid_row": null,
            "max_height": null,
            "align_content": null,
            "visibility": null,
            "align_self": null,
            "height": null,
            "min_height": null,
            "padding": null,
            "grid_auto_rows": null,
            "grid_gap": null,
            "max_width": null,
            "order": null,
            "_view_module_version": "1.2.0",
            "grid_template_areas": null,
            "object_position": null,
            "object_fit": null,
            "grid_auto_columns": null,
            "margin": null,
            "display": null,
            "left": null
          }
        },
        "93df78b37b2745ddaa29762b196b9345": {
          "model_module": "@jupyter-widgets/controls",
          "model_name": "DescriptionStyleModel",
          "state": {
            "_view_name": "StyleView",
            "_model_name": "DescriptionStyleModel",
            "description_width": "",
            "_view_module": "@jupyter-widgets/base",
            "_model_module_version": "1.5.0",
            "_view_count": null,
            "_view_module_version": "1.2.0",
            "_model_module": "@jupyter-widgets/controls"
          }
        },
        "d76c69c5013249da876d7d8d58988659": {
          "model_module": "@jupyter-widgets/base",
          "model_name": "LayoutModel",
          "state": {
            "_view_name": "LayoutView",
            "grid_template_rows": null,
            "right": null,
            "justify_content": null,
            "_view_module": "@jupyter-widgets/base",
            "overflow": null,
            "_model_module_version": "1.2.0",
            "_view_count": null,
            "flex_flow": null,
            "width": null,
            "min_width": null,
            "border": null,
            "align_items": null,
            "bottom": null,
            "_model_module": "@jupyter-widgets/base",
            "top": null,
            "grid_column": null,
            "overflow_y": null,
            "overflow_x": null,
            "grid_auto_flow": null,
            "grid_area": null,
            "grid_template_columns": null,
            "flex": null,
            "_model_name": "LayoutModel",
            "justify_items": null,
            "grid_row": null,
            "max_height": null,
            "align_content": null,
            "visibility": null,
            "align_self": null,
            "height": null,
            "min_height": null,
            "padding": null,
            "grid_auto_rows": null,
            "grid_gap": null,
            "max_width": null,
            "order": null,
            "_view_module_version": "1.2.0",
            "grid_template_areas": null,
            "object_position": null,
            "object_fit": null,
            "grid_auto_columns": null,
            "margin": null,
            "display": null,
            "left": null
          }
        },
        "e56fb396ad8c478388a18f32e69546c5": {
          "model_module": "@jupyter-widgets/controls",
          "model_name": "HBoxModel",
          "state": {
            "_view_name": "HBoxView",
            "_dom_classes": [],
            "_model_name": "HBoxModel",
            "_view_module": "@jupyter-widgets/controls",
            "_model_module_version": "1.5.0",
            "_view_count": null,
            "_view_module_version": "1.5.0",
            "box_style": "",
            "layout": "IPY_MODEL_82f81beffaf14d5f8fe02a8008d22394",
            "_model_module": "@jupyter-widgets/controls",
            "children": [
              "IPY_MODEL_03049b20e018431f8956422e85906c6d",
              "IPY_MODEL_4261b1562bc44fa28f7287abeddcf4b6"
            ]
          }
        },
        "82f81beffaf14d5f8fe02a8008d22394": {
          "model_module": "@jupyter-widgets/base",
          "model_name": "LayoutModel",
          "state": {
            "_view_name": "LayoutView",
            "grid_template_rows": null,
            "right": null,
            "justify_content": null,
            "_view_module": "@jupyter-widgets/base",
            "overflow": null,
            "_model_module_version": "1.2.0",
            "_view_count": null,
            "flex_flow": null,
            "width": null,
            "min_width": null,
            "border": null,
            "align_items": null,
            "bottom": null,
            "_model_module": "@jupyter-widgets/base",
            "top": null,
            "grid_column": null,
            "overflow_y": null,
            "overflow_x": null,
            "grid_auto_flow": null,
            "grid_area": null,
            "grid_template_columns": null,
            "flex": null,
            "_model_name": "LayoutModel",
            "justify_items": null,
            "grid_row": null,
            "max_height": null,
            "align_content": null,
            "visibility": null,
            "align_self": null,
            "height": null,
            "min_height": null,
            "padding": null,
            "grid_auto_rows": null,
            "grid_gap": null,
            "max_width": null,
            "order": null,
            "_view_module_version": "1.2.0",
            "grid_template_areas": null,
            "object_position": null,
            "object_fit": null,
            "grid_auto_columns": null,
            "margin": null,
            "display": null,
            "left": null
          }
        },
        "03049b20e018431f8956422e85906c6d": {
          "model_module": "@jupyter-widgets/controls",
          "model_name": "IntProgressModel",
          "state": {
            "_view_name": "ProgressView",
            "style": "IPY_MODEL_fd251bc6ad884170a695e198d0a887e1",
            "_dom_classes": [],
            "description": "",
            "_model_name": "IntProgressModel",
            "bar_style": "success",
            "max": 10000,
            "_view_module": "@jupyter-widgets/controls",
            "_model_module_version": "1.5.0",
            "value": 10000,
            "_view_count": null,
            "_view_module_version": "1.5.0",
            "orientation": "horizontal",
            "min": 0,
            "description_tooltip": null,
            "_model_module": "@jupyter-widgets/controls",
            "layout": "IPY_MODEL_81aae6c5e3454594ad08a579aaf5fe03"
          }
        },
        "4261b1562bc44fa28f7287abeddcf4b6": {
          "model_module": "@jupyter-widgets/controls",
          "model_name": "HTMLModel",
          "state": {
            "_view_name": "HTMLView",
            "style": "IPY_MODEL_1f2e9eca6e994787aa202e0eaf845b8c",
            "_dom_classes": [],
            "description": "",
            "_model_name": "HTMLModel",
            "placeholder": "​",
            "_view_module": "@jupyter-widgets/controls",
            "_model_module_version": "1.5.0",
            "value": "100% 10000/10000 [00:31&lt;00:00, 313.48it/s]",
            "_view_count": null,
            "_view_module_version": "1.5.0",
            "description_tooltip": null,
            "_model_module": "@jupyter-widgets/controls",
            "layout": "IPY_MODEL_f396a4bb50f9439fb1e4d59a0e3d139e"
          }
        },
        "fd251bc6ad884170a695e198d0a887e1": {
          "model_module": "@jupyter-widgets/controls",
          "model_name": "ProgressStyleModel",
          "state": {
            "_view_name": "StyleView",
            "_model_name": "ProgressStyleModel",
            "description_width": "",
            "_view_module": "@jupyter-widgets/base",
            "_model_module_version": "1.5.0",
            "_view_count": null,
            "_view_module_version": "1.2.0",
            "bar_color": null,
            "_model_module": "@jupyter-widgets/controls"
          }
        },
        "81aae6c5e3454594ad08a579aaf5fe03": {
          "model_module": "@jupyter-widgets/base",
          "model_name": "LayoutModel",
          "state": {
            "_view_name": "LayoutView",
            "grid_template_rows": null,
            "right": null,
            "justify_content": null,
            "_view_module": "@jupyter-widgets/base",
            "overflow": null,
            "_model_module_version": "1.2.0",
            "_view_count": null,
            "flex_flow": null,
            "width": null,
            "min_width": null,
            "border": null,
            "align_items": null,
            "bottom": null,
            "_model_module": "@jupyter-widgets/base",
            "top": null,
            "grid_column": null,
            "overflow_y": null,
            "overflow_x": null,
            "grid_auto_flow": null,
            "grid_area": null,
            "grid_template_columns": null,
            "flex": null,
            "_model_name": "LayoutModel",
            "justify_items": null,
            "grid_row": null,
            "max_height": null,
            "align_content": null,
            "visibility": null,
            "align_self": null,
            "height": null,
            "min_height": null,
            "padding": null,
            "grid_auto_rows": null,
            "grid_gap": null,
            "max_width": null,
            "order": null,
            "_view_module_version": "1.2.0",
            "grid_template_areas": null,
            "object_position": null,
            "object_fit": null,
            "grid_auto_columns": null,
            "margin": null,
            "display": null,
            "left": null
          }
        },
        "1f2e9eca6e994787aa202e0eaf845b8c": {
          "model_module": "@jupyter-widgets/controls",
          "model_name": "DescriptionStyleModel",
          "state": {
            "_view_name": "StyleView",
            "_model_name": "DescriptionStyleModel",
            "description_width": "",
            "_view_module": "@jupyter-widgets/base",
            "_model_module_version": "1.5.0",
            "_view_count": null,
            "_view_module_version": "1.2.0",
            "_model_module": "@jupyter-widgets/controls"
          }
        },
        "f396a4bb50f9439fb1e4d59a0e3d139e": {
          "model_module": "@jupyter-widgets/base",
          "model_name": "LayoutModel",
          "state": {
            "_view_name": "LayoutView",
            "grid_template_rows": null,
            "right": null,
            "justify_content": null,
            "_view_module": "@jupyter-widgets/base",
            "overflow": null,
            "_model_module_version": "1.2.0",
            "_view_count": null,
            "flex_flow": null,
            "width": null,
            "min_width": null,
            "border": null,
            "align_items": null,
            "bottom": null,
            "_model_module": "@jupyter-widgets/base",
            "top": null,
            "grid_column": null,
            "overflow_y": null,
            "overflow_x": null,
            "grid_auto_flow": null,
            "grid_area": null,
            "grid_template_columns": null,
            "flex": null,
            "_model_name": "LayoutModel",
            "justify_items": null,
            "grid_row": null,
            "max_height": null,
            "align_content": null,
            "visibility": null,
            "align_self": null,
            "height": null,
            "min_height": null,
            "padding": null,
            "grid_auto_rows": null,
            "grid_gap": null,
            "max_width": null,
            "order": null,
            "_view_module_version": "1.2.0",
            "grid_template_areas": null,
            "object_position": null,
            "object_fit": null,
            "grid_auto_columns": null,
            "margin": null,
            "display": null,
            "left": null
          }
        }
      }
    }
  },
  "cells": [
    {
      "cell_type": "markdown",
      "metadata": {
        "id": "view-in-github",
        "colab_type": "text"
      },
      "source": [
        "<a href=\"https://colab.research.google.com/github/jiangzian96/DS1012/blob/master/HW3_zj444.ipynb\" target=\"_parent\"><img src=\"https://colab.research.google.com/assets/colab-badge.svg\" alt=\"Open In Colab\"/></a>"
      ]
    },
    {
      "cell_type": "markdown",
      "metadata": {
        "id": "2ZvRsKxerr_C",
        "colab_type": "text"
      },
      "source": [
        "# Homework 3: Word Embeddings\n",
        "\n",
        "In this homework assignment, we are going to tackle two different exercises involving word embeddings. First, we are going to explore using the semantic orientation method to score words. Second, we will explore the effect of context sizes in building embeddings based on word cooccurrences."
      ]
    },
    {
      "cell_type": "markdown",
      "metadata": {
        "id": "fRjB4n70e_Nv",
        "colab_type": "text"
      },
      "source": [
        "# Part 0: Setup"
      ]
    },
    {
      "cell_type": "code",
      "metadata": {
        "id": "qIT93qtzg7rA",
        "colab_type": "code",
        "outputId": "6bb468d1-fe09-42e6-d1b9-618295fae145",
        "colab": {
          "base_uri": "https://localhost:8080/",
          "height": 119
        }
      },
      "source": [
        "!pip install sacremoses"
      ],
      "execution_count": 1,
      "outputs": [
        {
          "output_type": "stream",
          "text": [
            "Requirement already satisfied: sacremoses in /usr/local/lib/python3.6/dist-packages (0.0.38)\n",
            "Requirement already satisfied: regex in /usr/local/lib/python3.6/dist-packages (from sacremoses) (2019.12.20)\n",
            "Requirement already satisfied: joblib in /usr/local/lib/python3.6/dist-packages (from sacremoses) (0.14.1)\n",
            "Requirement already satisfied: six in /usr/local/lib/python3.6/dist-packages (from sacremoses) (1.12.0)\n",
            "Requirement already satisfied: click in /usr/local/lib/python3.6/dist-packages (from sacremoses) (7.0)\n",
            "Requirement already satisfied: tqdm in /usr/local/lib/python3.6/dist-packages (from sacremoses) (4.28.1)\n"
          ],
          "name": "stdout"
        }
      ]
    },
    {
      "cell_type": "code",
      "metadata": {
        "id": "Mv7TBcl5e_Nf",
        "colab_type": "code",
        "colab": {}
      },
      "source": [
        "import pandas as pd\n",
        "import numpy as np\n",
        "from sklearn.metrics.pairwise import cosine_similarity\n",
        "import sacremoses\n",
        "import tqdm\n",
        "import time\n",
        "from matplotlib import pyplot as plt\n",
        "%matplotlib inline"
      ],
      "execution_count": 0,
      "outputs": []
    },
    {
      "cell_type": "markdown",
      "metadata": {
        "id": "O0lWzIl3e_N1",
        "colab_type": "text"
      },
      "source": [
        "We're going load a set of 50D word vectors from GloVe. If want to download other versions of GloVe, you can click [here](https://nlp.stanford.edu/projects/glove/)."
      ]
    },
    {
      "cell_type": "code",
      "metadata": {
        "id": "2INTutRPfCVn",
        "colab_type": "code",
        "outputId": "1ff190b1-a1b4-4a53-b86e-8ffafc1dde2e",
        "colab": {
          "base_uri": "https://localhost:8080/",
          "height": 1000
        }
      },
      "source": [
        "!wget https://docs.google.com/uc?id=1si-rTb4nALWb-Wah5_tqbs9KXAwE3qhK -O glove.aa\n",
        "!wget https://docs.google.com/uc?id=1_XywxYH56-tHepqxpUfE-Y6xNQSZiu-7 -O glove.ab\n",
        "!wget https://docs.google.com/uc?id=1ISSLqQWL8EO8blT54RKahkDQhtmSp9ae -O glove.ac\n",
        "!wget https://docs.google.com/uc?id=1qHqCKLFO0Zdyhmb_ctd63aaFRLNGiDfB -O glove.ad\n",
        "!cat glove.?? > 'glove.6B.50d.txt'"
      ],
      "execution_count": 3,
      "outputs": [
        {
          "output_type": "stream",
          "text": [
            "--2020-02-21 18:34:44--  https://docs.google.com/uc?id=1si-rTb4nALWb-Wah5_tqbs9KXAwE3qhK\n",
            "Resolving docs.google.com (docs.google.com)... 173.194.217.101, 173.194.217.100, 173.194.217.138, ...\n",
            "Connecting to docs.google.com (docs.google.com)|173.194.217.101|:443... connected.\n",
            "HTTP request sent, awaiting response... 302 Moved Temporarily\n",
            "Location: https://doc-00-0g-docs.googleusercontent.com/docs/securesc/ha0ro937gcuc7l7deffksulhg5h7mbp1/0rafa6acnusukm8u6aqg3t3smvb6nv6u/1582309800000/14514704803973256873/*/1si-rTb4nALWb-Wah5_tqbs9KXAwE3qhK [following]\n",
            "Warning: wildcards not supported in HTTP.\n",
            "--2020-02-21 18:34:46--  https://doc-00-0g-docs.googleusercontent.com/docs/securesc/ha0ro937gcuc7l7deffksulhg5h7mbp1/0rafa6acnusukm8u6aqg3t3smvb6nv6u/1582309800000/14514704803973256873/*/1si-rTb4nALWb-Wah5_tqbs9KXAwE3qhK\n",
            "Resolving doc-00-0g-docs.googleusercontent.com (doc-00-0g-docs.googleusercontent.com)... 172.217.203.132, 2607:f8b0:400c:c07::84\n",
            "Connecting to doc-00-0g-docs.googleusercontent.com (doc-00-0g-docs.googleusercontent.com)|172.217.203.132|:443... connected.\n",
            "HTTP request sent, awaiting response... 200 OK\n",
            "Length: unspecified [audio/audible]\n",
            "Saving to: ‘glove.aa’\n",
            "\n",
            "glove.aa                [   <=>              ]  50.00M  47.7MB/s    in 1.0s    \n",
            "\n",
            "2020-02-21 18:34:48 (47.7 MB/s) - ‘glove.aa’ saved [52428800]\n",
            "\n",
            "--2020-02-21 18:34:48--  https://docs.google.com/uc?id=1_XywxYH56-tHepqxpUfE-Y6xNQSZiu-7\n",
            "Resolving docs.google.com (docs.google.com)... 173.194.217.101, 173.194.217.100, 173.194.217.138, ...\n",
            "Connecting to docs.google.com (docs.google.com)|173.194.217.101|:443... connected.\n",
            "HTTP request sent, awaiting response... 302 Moved Temporarily\n",
            "Location: https://doc-08-0g-docs.googleusercontent.com/docs/securesc/ha0ro937gcuc7l7deffksulhg5h7mbp1/e4hn2lk3qq80l5m3shhmsrgdn0gf92jl/1582309800000/14514704803973256873/*/1_XywxYH56-tHepqxpUfE-Y6xNQSZiu-7 [following]\n",
            "Warning: wildcards not supported in HTTP.\n",
            "--2020-02-21 18:34:50--  https://doc-08-0g-docs.googleusercontent.com/docs/securesc/ha0ro937gcuc7l7deffksulhg5h7mbp1/e4hn2lk3qq80l5m3shhmsrgdn0gf92jl/1582309800000/14514704803973256873/*/1_XywxYH56-tHepqxpUfE-Y6xNQSZiu-7\n",
            "Resolving doc-08-0g-docs.googleusercontent.com (doc-08-0g-docs.googleusercontent.com)... 172.217.203.132, 2607:f8b0:400c:c07::84\n",
            "Connecting to doc-08-0g-docs.googleusercontent.com (doc-08-0g-docs.googleusercontent.com)|172.217.203.132|:443... connected.\n",
            "HTTP request sent, awaiting response... 200 OK\n",
            "Length: unspecified [application/octet-stream]\n",
            "Saving to: ‘glove.ab’\n",
            "\n",
            "glove.ab                [   <=>              ]  50.00M  42.3MB/s    in 1.2s    \n",
            "\n",
            "2020-02-21 18:34:52 (42.3 MB/s) - ‘glove.ab’ saved [52428800]\n",
            "\n",
            "--2020-02-21 18:34:52--  https://docs.google.com/uc?id=1ISSLqQWL8EO8blT54RKahkDQhtmSp9ae\n",
            "Resolving docs.google.com (docs.google.com)... 172.217.204.139, 172.217.204.102, 172.217.204.113, ...\n",
            "Connecting to docs.google.com (docs.google.com)|172.217.204.139|:443... connected.\n",
            "HTTP request sent, awaiting response... 302 Moved Temporarily\n",
            "Location: https://doc-0g-0g-docs.googleusercontent.com/docs/securesc/ha0ro937gcuc7l7deffksulhg5h7mbp1/scr01bnrvtdv29l2hhm8u7et5qv04ha1/1582309800000/14514704803973256873/*/1ISSLqQWL8EO8blT54RKahkDQhtmSp9ae [following]\n",
            "Warning: wildcards not supported in HTTP.\n",
            "--2020-02-21 18:34:54--  https://doc-0g-0g-docs.googleusercontent.com/docs/securesc/ha0ro937gcuc7l7deffksulhg5h7mbp1/scr01bnrvtdv29l2hhm8u7et5qv04ha1/1582309800000/14514704803973256873/*/1ISSLqQWL8EO8blT54RKahkDQhtmSp9ae\n",
            "Resolving doc-0g-0g-docs.googleusercontent.com (doc-0g-0g-docs.googleusercontent.com)... 172.217.203.132, 2607:f8b0:400c:c07::84\n",
            "Connecting to doc-0g-0g-docs.googleusercontent.com (doc-0g-0g-docs.googleusercontent.com)|172.217.203.132|:443... connected.\n",
            "HTTP request sent, awaiting response... 200 OK\n",
            "Length: unspecified [application/octet-stream]\n",
            "Saving to: ‘glove.ac’\n",
            "\n",
            "glove.ac                [    <=>             ]  50.00M  28.3MB/s    in 1.8s    \n",
            "\n",
            "2020-02-21 18:34:56 (28.3 MB/s) - ‘glove.ac’ saved [52428800]\n",
            "\n",
            "--2020-02-21 18:34:57--  https://docs.google.com/uc?id=1qHqCKLFO0Zdyhmb_ctd63aaFRLNGiDfB\n",
            "Resolving docs.google.com (docs.google.com)... 173.194.217.101, 173.194.217.100, 173.194.217.138, ...\n",
            "Connecting to docs.google.com (docs.google.com)|173.194.217.101|:443... connected.\n",
            "HTTP request sent, awaiting response... 302 Moved Temporarily\n",
            "Location: https://doc-0o-0g-docs.googleusercontent.com/docs/securesc/ha0ro937gcuc7l7deffksulhg5h7mbp1/iofe5pdddjt5sfsiaf8h0co4j7h2c4ue/1582309800000/14514704803973256873/*/1qHqCKLFO0Zdyhmb_ctd63aaFRLNGiDfB [following]\n",
            "Warning: wildcards not supported in HTTP.\n",
            "--2020-02-21 18:34:57--  https://doc-0o-0g-docs.googleusercontent.com/docs/securesc/ha0ro937gcuc7l7deffksulhg5h7mbp1/iofe5pdddjt5sfsiaf8h0co4j7h2c4ue/1582309800000/14514704803973256873/*/1qHqCKLFO0Zdyhmb_ctd63aaFRLNGiDfB\n",
            "Resolving doc-0o-0g-docs.googleusercontent.com (doc-0o-0g-docs.googleusercontent.com)... 172.217.203.132, 2607:f8b0:400c:c07::84\n",
            "Connecting to doc-0o-0g-docs.googleusercontent.com (doc-0o-0g-docs.googleusercontent.com)|172.217.203.132|:443... connected.\n",
            "HTTP request sent, awaiting response... 200 OK\n",
            "Length: unspecified [application/octet-stream]\n",
            "Saving to: ‘glove.ad’\n",
            "\n",
            "glove.ad                [  <=>               ]  13.41M  37.8MB/s    in 0.4s    \n",
            "\n",
            "2020-02-21 18:34:58 (37.8 MB/s) - ‘glove.ad’ saved [14063679]\n",
            "\n"
          ],
          "name": "stdout"
        }
      ]
    },
    {
      "cell_type": "markdown",
      "metadata": {
        "id": "1t4crjzWsOpp",
        "colab_type": "text"
      },
      "source": [
        "We'll load the GloVe embeddings similar to previous labs. `words_to_load` specifies how many word vectors we want to load. The words are saved in frequency order, so specifying 50,000 means that we only want to work with the 50,000 most frequent words from the source corpus."
      ]
    },
    {
      "cell_type": "code",
      "metadata": {
        "id": "H1MqtauHe_N4",
        "colab_type": "code",
        "outputId": "6e8a3dfa-fd53-4476-fbdc-4b774b2a5a94",
        "colab": {
          "base_uri": "https://localhost:8080/",
          "height": 34
        }
      },
      "source": [
        "words_to_load = 50000\n",
        "\n",
        "with open('./glove.6B.50d.txt') as f:\n",
        "    loaded_embeddings = np.zeros((words_to_load, 50))\n",
        "    words_to_index = {}\n",
        "    ordered_words = []\n",
        "    for i, line in enumerate(f):\n",
        "        if i >= words_to_load: \n",
        "            break\n",
        "        \n",
        "        s = line.split()\n",
        "        loaded_embeddings[i, :] = np.asarray(s[1:])\n",
        "        words_to_index[s[0]] = i\n",
        "        ordered_words.append(s[0])\n",
        "print(\"GloVe loaded\")"
      ],
      "execution_count": 4,
      "outputs": [
        {
          "output_type": "stream",
          "text": [
            "GloVe loaded\n"
          ],
          "name": "stdout"
        }
      ]
    },
    {
      "cell_type": "markdown",
      "metadata": {
        "id": "O_SUYoKFe_OB",
        "colab_type": "text"
      },
      "source": [
        "Let's look at the embedding for the word \"potato\"."
      ]
    },
    {
      "cell_type": "code",
      "metadata": {
        "id": "A_wdFWAXe_ON",
        "colab_type": "code",
        "outputId": "76548389-9602-49ad-fdb0-258d59a08b8e",
        "colab": {
          "base_uri": "https://localhost:8080/",
          "height": 170
        }
      },
      "source": [
        "loaded_embeddings[words_to_index['potato']]"
      ],
      "execution_count": 5,
      "outputs": [
        {
          "output_type": "execute_result",
          "data": {
            "text/plain": [
              "array([-0.063054, -0.62636 , -0.76417 , -0.041484,  0.56284 ,  0.86432 ,\n",
              "       -0.73734 , -0.70925 , -0.073065, -0.74619 , -0.34769 ,  0.14402 ,\n",
              "        1.4576  ,  0.034688,  0.11224 ,  0.13854 ,  0.10484 ,  0.60207 ,\n",
              "        0.021777, -0.21802 ,  0.087613, -1.4234  ,  1.0361  ,  0.1509  ,\n",
              "        0.13608 , -0.2971  , -0.90828 ,  0.34182 ,  1.3367  ,  0.16329 ,\n",
              "        1.2374  , -0.20113 , -0.91532 ,  1.4222  , -0.1276  ,  0.69443 ,\n",
              "       -1.1782  ,  1.2072  ,  1.0524  , -0.11957 , -0.1275  ,  0.41798 ,\n",
              "       -0.9232  , -0.1312  ,  1.2696  ,  1.2318  ,  0.30061 , -0.18854 ,\n",
              "        0.15899 ,  0.0486  ])"
            ]
          },
          "metadata": {
            "tags": []
          },
          "execution_count": 5
        }
      ]
    },
    {
      "cell_type": "markdown",
      "metadata": {
        "id": "lqeYUGvJe_OW",
        "colab_type": "text"
      },
      "source": [
        "# Part 1: The Semantic Orientation Method [40]"
      ]
    },
    {
      "cell_type": "markdown",
      "metadata": {
        "id": "iTvdJ39Fe_OZ",
        "colab_type": "text"
      },
      "source": [
        "The __semantic orientation__ method of [Turney and Littman 2003](http://doi.acm.org/10.1145/944012.944013) is a method for automatically scoring words along some single semantic dimension like sentiment. It works from a pair of small seed sets of words that represent two opposing points on that dimension.\n",
        "\n",
        "*Some code in this section was adapted from Stanford CS 224U*"
      ]
    },
    {
      "cell_type": "markdown",
      "metadata": {
        "id": "EK48UHrke_Oc",
        "colab_type": "text"
      },
      "source": [
        "Here's a sample pair of seed sets:"
      ]
    },
    {
      "cell_type": "code",
      "metadata": {
        "id": "xtlIac9Ge_Oe",
        "colab_type": "code",
        "colab": {}
      },
      "source": [
        "positive_words = ['good', 'great', 'awesome', 'like', 'love']\n",
        "negative_words = ['bad', 'awful', 'terrible', 'hate', 'dislike']"
      ],
      "execution_count": 0,
      "outputs": []
    },
    {
      "cell_type": "code",
      "metadata": {
        "id": "hXaolKIIe_Ok",
        "colab_type": "code",
        "colab": {}
      },
      "source": [
        "class SemanticOrientation:\n",
        "    \n",
        "    def __init__(self, seed_pos, seed_neg):\n",
        "        \"\"\"\n",
        "        args: \n",
        "            - seed_pos: list of 'positive' words\n",
        "            - seed_neg: list of 'negative' words\n",
        "        \"\"\"\n",
        "        self.seed_pos = seed_pos\n",
        "        self.seed_neg = seed_neg\n",
        "        seed_pos_indices = [words_to_index[seed] for seed in seed_pos]\n",
        "        seed_neg_indices = [words_to_index[seed] for seed in seed_neg]\n",
        "        \n",
        "        # Get matrices of embeddings for positive and negative words\n",
        "        self.seed_pos_mat = loaded_embeddings[seed_pos_indices]\n",
        "        self.seed_neg_mat = loaded_embeddings[seed_neg_indices]\n",
        "        \n",
        "    def determine_coefficient(self, candidate_words):\n",
        "        \"\"\"\n",
        "        args:\n",
        "            - candidate_words: single word, or list of words\n",
        "        \"\"\"\n",
        "        \n",
        "        # Optionally handle a single word\n",
        "        one_word = isinstance(candidate_words, str)\n",
        "        if one_word:\n",
        "            candidate_words = [candidate_words]\n",
        "\n",
        "        # Retrieve matrix of embeddings for candidate words\n",
        "        candidates_mat = np.array([\n",
        "            loaded_embeddings[words_to_index[candidate_word]]\n",
        "            for candidate_word in candidate_words\n",
        "        ])\n",
        "        # Compute the cosine similarity between the seed word and \n",
        "        #   the candidate word embeddings, and average\n",
        "        pos_sim = cosine_similarity(self.seed_pos_mat, candidates_mat).mean(axis=0)\n",
        "        neg_sim = cosine_similarity(self.seed_neg_mat, candidates_mat).mean(axis=0)\n",
        "        # Compute the difference between the average positive and negative similarities\n",
        "        diff = pos_sim - neg_sim\n",
        "\n",
        "        if one_word:\n",
        "            return diff[0]\n",
        "        else:\n",
        "            return diff"
      ],
      "execution_count": 0,
      "outputs": []
    },
    {
      "cell_type": "code",
      "metadata": {
        "id": "B8ho1OPve_Or",
        "colab_type": "code",
        "colab": {}
      },
      "source": [
        "sentiment_so = SemanticOrientation(\n",
        "    seed_pos=positive_words,\n",
        "    seed_neg=negative_words,\n",
        ")"
      ],
      "execution_count": 0,
      "outputs": []
    },
    {
      "cell_type": "markdown",
      "metadata": {
        "id": "iCokxNHHe_Oy",
        "colab_type": "text"
      },
      "source": [
        "Let's get the coefficients of some words and see if it lines up with our intuition."
      ]
    },
    {
      "cell_type": "code",
      "metadata": {
        "scrolled": true,
        "id": "MgIfflYpe_O0",
        "colab_type": "code",
        "outputId": "1c22b050-7833-45e1-d595-551cd2b47329",
        "colab": {
          "base_uri": "https://localhost:8080/",
          "height": 34
        }
      },
      "source": [
        "sentiment_so.determine_coefficient('abhorrent')"
      ],
      "execution_count": 9,
      "outputs": [
        {
          "output_type": "execute_result",
          "data": {
            "text/plain": [
              "-0.2712170238375182"
            ]
          },
          "metadata": {
            "tags": []
          },
          "execution_count": 9
        }
      ]
    },
    {
      "cell_type": "code",
      "metadata": {
        "id": "qnCoEmT4e_O6",
        "colab_type": "code",
        "outputId": "726ed11e-2b11-43ed-c5bb-5a732885bfe7",
        "colab": {
          "base_uri": "https://localhost:8080/",
          "height": 34
        }
      },
      "source": [
        "sentiment_so.determine_coefficient('excellent')"
      ],
      "execution_count": 10,
      "outputs": [
        {
          "output_type": "execute_result",
          "data": {
            "text/plain": [
              "0.2816580407857993"
            ]
          },
          "metadata": {
            "tags": []
          },
          "execution_count": 10
        }
      ]
    },
    {
      "cell_type": "code",
      "metadata": {
        "id": "u7s5-BXFe_O_",
        "colab_type": "code",
        "outputId": "210faa72-a97d-46ad-c8b1-6d1606152874",
        "colab": {
          "base_uri": "https://localhost:8080/",
          "height": 34
        }
      },
      "source": [
        "sentiment_so.determine_coefficient('amazing')"
      ],
      "execution_count": 11,
      "outputs": [
        {
          "output_type": "execute_result",
          "data": {
            "text/plain": [
              "0.2068293944473673"
            ]
          },
          "metadata": {
            "tags": []
          },
          "execution_count": 11
        }
      ]
    },
    {
      "cell_type": "code",
      "metadata": {
        "id": "utlgXcWee_PH",
        "colab_type": "code",
        "outputId": "aec39bbe-618b-44f3-c511-c17220fea875",
        "colab": {
          "base_uri": "https://localhost:8080/",
          "height": 34
        }
      },
      "source": [
        "sentiment_so.determine_coefficient('okay')"
      ],
      "execution_count": 12,
      "outputs": [
        {
          "output_type": "execute_result",
          "data": {
            "text/plain": [
              "-0.011928961401575844"
            ]
          },
          "metadata": {
            "tags": []
          },
          "execution_count": 12
        }
      ]
    },
    {
      "cell_type": "code",
      "metadata": {
        "id": "zSjJ6ceRe_PO",
        "colab_type": "code",
        "outputId": "01fecced-e492-447f-c88e-167f0859425b",
        "colab": {
          "base_uri": "https://localhost:8080/",
          "height": 34
        }
      },
      "source": [
        "sentiment_so.determine_coefficient('atrocious')"
      ],
      "execution_count": 13,
      "outputs": [
        {
          "output_type": "execute_result",
          "data": {
            "text/plain": [
              "-0.2749609244690855"
            ]
          },
          "metadata": {
            "tags": []
          },
          "execution_count": 13
        }
      ]
    },
    {
      "cell_type": "code",
      "metadata": {
        "id": "qm3h-qP29ttp",
        "colab_type": "code",
        "colab": {}
      },
      "source": [
        "def scatter_and_annotate(ax, x_values, y_values, labels, color):\n",
        "    ax.scatter(x_values, y_values, color=color)\n",
        "    for i, label in enumerate(labels):\n",
        "        ax.text(x_values[i], y_values[i], label, rotation=45)\n",
        "\n",
        "def plot_semantic_orientation(semantic_orientation, words):\n",
        "    fig = plt.figure(figsize=(8, 4))\n",
        "    ax = fig.gca()\n",
        "    x_values = semantic_orientation.determine_coefficient(semantic_orientation.seed_pos) \n",
        "    x_values = semantic_orientation.determine_coefficient(semantic_orientation.seed_pos) \n",
        "\n",
        "    scatter_and_annotate(\n",
        "        ax=ax,\n",
        "        x_values=semantic_orientation.determine_coefficient(semantic_orientation.seed_pos),\n",
        "        y_values=[0] * len(semantic_orientation.seed_pos),\n",
        "        labels=semantic_orientation.seed_pos,\n",
        "        color=\"blue\",\n",
        "    )\n",
        "    scatter_and_annotate(\n",
        "        ax=ax,\n",
        "        x_values=semantic_orientation.determine_coefficient(semantic_orientation.seed_neg),\n",
        "        y_values=[0] * len(semantic_orientation.seed_neg),\n",
        "        labels=semantic_orientation.seed_neg,\n",
        "        color=\"red\",\n",
        "    )\n",
        "    ax.axhline(0, color=\"gray\")\n",
        "\n",
        "    scatter_and_annotate(\n",
        "        ax=ax,\n",
        "        x_values=semantic_orientation.determine_coefficient(words),\n",
        "        y_values=[-2] * len(words),\n",
        "        labels=words,\n",
        "        color=\"purple\",\n",
        "    )\n",
        "    ax.axhline(-2, color=\"black\")\n",
        "    ax.set_ylim(-2.5, 1)\n",
        "    ax.set_yticks([-2, 0])\n",
        "    ax.set_yticklabels([\"words\", \"seed\"])"
      ],
      "execution_count": 0,
      "outputs": []
    },
    {
      "cell_type": "code",
      "metadata": {
        "id": "R6eXvmqT9GAx",
        "colab_type": "code",
        "outputId": "2c48fe9a-2c39-4517-d9ca-f39404cbcf90",
        "colab": {
          "base_uri": "https://localhost:8080/",
          "height": 265
        }
      },
      "source": [
        "plot_semantic_orientation(\n",
        "    semantic_orientation=sentiment_so, \n",
        "    words=[\"abhorrent\", \"excellent\", \"amazing\", \"okay\", \"atrocious\"],\n",
        ")"
      ],
      "execution_count": 15,
      "outputs": [
        {
          "output_type": "display_data",
          "data": {
            "image/png": "[encoded data removed]",
            "text/plain": [
              "<Figure size 576x288 with 1 Axes>"
            ]
          },
          "metadata": {
            "tags": []
          }
        }
      ]
    },
    {
      "cell_type": "markdown",
      "metadata": {
        "id": "GAXq32WIe_PU",
        "colab_type": "text"
      },
      "source": [
        "And sort our vocabulary by its score along the axis. For now, we're only scoring frequent words, since this process can be slow."
      ]
    },
    {
      "cell_type": "markdown",
      "metadata": {
        "id": "kIXIX_LLApL5",
        "colab_type": "text"
      },
      "source": [
        "### Question 1.1 [10]\n",
        "\n",
        "Using `sentiment_so`, compute the coefficients of all `ordered_words` and show the 10 most positive and 10 most negative words."
      ]
    },
    {
      "cell_type": "code",
      "metadata": {
        "id": "RX3HSrbfe_PV",
        "colab_type": "code",
        "outputId": "ea868632-c81d-44da-eedb-af1dfd05aba8",
        "colab": {
          "base_uri": "https://localhost:8080/",
          "height": 119
        }
      },
      "source": [
        "diff = sentiment_so.determine_coefficient(ordered_words)\n",
        "indices = np.argsort(diff)\n",
        "top_pos_indices = indices[-10:][::-1]\n",
        "top_neg_indices = indices[:10]\n",
        "top_pos_words = [ordered_words[i] for i in top_pos_indices]\n",
        "top_neg_words = [ordered_words[i] for i in top_neg_indices]\n",
        "print(\"10 most positive words (decreasing order):\")\n",
        "print(\" \".join(top_pos_words))\n",
        "print(\"\\n\")\n",
        "print(\"10 most negative words (increasing order):\")\n",
        "print(\" \".join(top_neg_words))"
      ],
      "execution_count": 16,
      "outputs": [
        {
          "output_type": "stream",
          "text": [
            "10 most positive words (decreasing order):\n",
            "golden alongside famed award named pioneer star eagle diamond master\n",
            "\n",
            "\n",
            "10 most negative words (increasing order):\n",
            "deplore inaction mongering cautioning inexcusable malfeasance avoidable complicit profiteering unjustifiable\n"
          ],
          "name": "stdout"
        }
      ]
    },
    {
      "cell_type": "markdown",
      "metadata": {
        "id": "G7x_GhEge_Ph",
        "colab_type": "text"
      },
      "source": [
        "### Question 1.2 [30]\n",
        "\n",
        "1. Create another `SemanticOrientation` object with a different set of contrasting \"positive\" and \"negative\" categories that are unrelated to sentiment (e.g solids vs. liquids, living things vs objects) and corresponding seed words. Have at least 5 words per category.\n",
        "2. Pick another 5 words in either category and show their coefficients. Display them using the plotting code from above.\n",
        "3. Using `ordered_words`, show the 10 most positive and 10 most \"negative\" words.\n",
        "4. Pick 2 words that are unrelated to either category, compute their coefficients, and comment on them."
      ]
    },
    {
      "cell_type": "code",
      "metadata": {
        "id": "VsQhgLeae_Pi",
        "colab_type": "code",
        "colab": {
          "base_uri": "https://localhost:8080/",
          "height": 299
        },
        "outputId": "9081995d-9c50-44c9-8cb9-11d0bdd7946b"
      },
      "source": [
        "positive_words = [\"cat\",\"dog\",\"chicken\",\"duck\",\"monkey\",\"fish\"]\n",
        "negative_words = [\"toyota\",\"bmw\",\"tesla\",\"mercedes\",\"benz\",\"audi\"]\n",
        "words = [\"subaru\",\"pig\",\"nissan\",\"ant\",\"ferrari\"]\n",
        "sentiment_so = SemanticOrientation(\n",
        "    seed_pos=positive_words,\n",
        "    seed_neg=negative_words,\n",
        ")\n",
        "\n",
        "print(dict(zip(words,sentiment_so.determine_coefficient(words))))\n",
        "plot_semantic_orientation(\n",
        "    semantic_orientation=sentiment_so, \n",
        "    words=words,\n",
        ")\n",
        "\n",
        "unrelated = [\"obama\",\"basketball\"]\n",
        "print(dict(zip(unrelated,sentiment_so.determine_coefficient(unrelated))))"
      ],
      "execution_count": 42,
      "outputs": [
        {
          "output_type": "stream",
          "text": [
            "{'subaru': -0.6900456059915924, 'pig': 0.8055172677546014, 'nissan': -0.7542999912686662, 'ant': 0.6727658891782058, 'ferrari': -0.6564798191325467}\n",
            "{'obama': 0.059000862256985226, 'basketball': 0.0049296005459517345}\n"
          ],
          "name": "stdout"
        },
        {
          "output_type": "display_data",
          "data": {
            "image/png": "[encoded data removed]",
            "text/plain": [
              "<Figure size 576x288 with 1 Axes>"
            ]
          },
          "metadata": {
            "tags": []
          }
        }
      ]
    },
    {
      "cell_type": "markdown",
      "metadata": {
        "id": "2XW0eCKDGJOn",
        "colab_type": "text"
      },
      "source": [
        "Since neither \"obama\" or \"basketball\" is related to animals or car brands, their cosine similarities to both classes would result in similar values. Thus, if we take the difference between positive and negative coefficents, it should be expected to take the value very close to 0 for good pre-trained word embeddings."
      ]
    },
    {
      "cell_type": "markdown",
      "metadata": {
        "id": "CxO7owlte_Py",
        "colab_type": "text"
      },
      "source": [
        "# Part 2: Exploring effect of context size [60 pts]"
      ]
    },
    {
      "cell_type": "markdown",
      "metadata": {
        "id": "qaVVYaUbe_P0",
        "colab_type": "text"
      },
      "source": [
        "Let's take a step back and assume we are creating word embeddings from scratch.\n",
        "\n",
        "We face many implicit and explicit design decisions in creating distributional word representations. In lecture, we discussed creating vectors using a co-occurence matrix built on neighboring pairs of words. We might suspect, however, that we can get more signal of word similarity by considering larger contexts than pairs of words."
      ]
    },
    {
      "cell_type": "markdown",
      "metadata": {
        "id": "Vpwg6x8xs9bP",
        "colab_type": "text"
      },
      "source": [
        "We're going to download two files:\n",
        "\n",
        "1. `sst.txt`, a list of sentences from the [Stanford Sentiment Treebank](https://nlp.stanford.edu/sentiment/treebank.html).\n",
        "2. `MTURK-771.csv`, a [word-relatedness dataset](http://www2.mta.ac.il/~gideon/mturk771.html)."
      ]
    },
    {
      "cell_type": "code",
      "metadata": {
        "id": "7kE54j3Hs98q",
        "colab_type": "code",
        "colab": {
          "base_uri": "https://localhost:8080/",
          "height": 493
        },
        "outputId": "efa6e064-3449-4620-9b6e-8270bb149ad8"
      },
      "source": [
        "!wget https://docs.google.com/uc?id=1uDpAm-eoZx-kS7UAPELfH0gGAxekkDVd -O sst.txt\n",
        "!wget http://www2.mta.ac.il/~gideon/datasets/MTURK-771.csv -O MTURK-771.csv"
      ],
      "execution_count": 43,
      "outputs": [
        {
          "output_type": "stream",
          "text": [
            "--2020-02-21 18:55:27--  https://docs.google.com/uc?id=1uDpAm-eoZx-kS7UAPELfH0gGAxekkDVd\n",
            "Resolving docs.google.com (docs.google.com)... 74.125.139.102, 74.125.139.138, 74.125.139.101, ...\n",
            "Connecting to docs.google.com (docs.google.com)|74.125.139.102|:443... connected.\n",
            "HTTP request sent, awaiting response... 302 Moved Temporarily\n",
            "Location: https://doc-00-0g-docs.googleusercontent.com/docs/securesc/ha0ro937gcuc7l7deffksulhg5h7mbp1/ajpk7svekilmcroje6fns6odciq8lmh8/1582310700000/14514704803973256873/*/1uDpAm-eoZx-kS7UAPELfH0gGAxekkDVd [following]\n",
            "Warning: wildcards not supported in HTTP.\n",
            "--2020-02-21 18:55:27--  https://doc-00-0g-docs.googleusercontent.com/docs/securesc/ha0ro937gcuc7l7deffksulhg5h7mbp1/ajpk7svekilmcroje6fns6odciq8lmh8/1582310700000/14514704803973256873/*/1uDpAm-eoZx-kS7UAPELfH0gGAxekkDVd\n",
            "Resolving doc-00-0g-docs.googleusercontent.com (doc-00-0g-docs.googleusercontent.com)... 172.217.203.132, 2607:f8b0:400c:c07::84\n",
            "Connecting to doc-00-0g-docs.googleusercontent.com (doc-00-0g-docs.googleusercontent.com)|172.217.203.132|:443... connected.\n",
            "HTTP request sent, awaiting response... 200 OK\n",
            "Length: 1290263 (1.2M) [text/plain]\n",
            "Saving to: ‘sst.txt’\n",
            "\n",
            "\rsst.txt               0%[                    ]       0  --.-KB/s               \rsst.txt             100%[===================>]   1.23M  --.-KB/s    in 0.009s  \n",
            "\n",
            "2020-02-21 18:55:27 (139 MB/s) - ‘sst.txt’ saved [1290263/1290263]\n",
            "\n",
            "--2020-02-21 18:55:28--  http://www2.mta.ac.il/~gideon/datasets/MTURK-771.csv\n",
            "Resolving www2.mta.ac.il (www2.mta.ac.il)... 192.116.64.52\n",
            "Connecting to www2.mta.ac.il (www2.mta.ac.il)|192.116.64.52|:80... connected.\n",
            "HTTP request sent, awaiting response... 200 OK\n",
            "Length: 19629 (19K) [text/csv]\n",
            "Saving to: ‘MTURK-771.csv’\n",
            "\n",
            "MTURK-771.csv       100%[===================>]  19.17K   124KB/s    in 0.2s    \n",
            "\n",
            "2020-02-21 18:55:29 (124 KB/s) - ‘MTURK-771.csv’ saved [19629/19629]\n",
            "\n"
          ],
          "name": "stdout"
        }
      ]
    },
    {
      "cell_type": "code",
      "metadata": {
        "id": "aUXiGZ1Ie_P3",
        "colab_type": "code",
        "colab": {}
      },
      "source": [
        "mturk_path = \"./MTURK-771.csv\"\n",
        "sst_path = \"./sst.txt\""
      ],
      "execution_count": 0,
      "outputs": []
    },
    {
      "cell_type": "markdown",
      "metadata": {
        "id": "mqh5wfjHNb91",
        "colab_type": "text"
      },
      "source": [
        "First, we will load the SST data."
      ]
    },
    {
      "cell_type": "code",
      "metadata": {
        "id": "cM4zMwY9NaPp",
        "colab_type": "code",
        "colab": {
          "base_uri": "https://localhost:8080/",
          "height": 66,
          "referenced_widgets": [
            "a9635885712945c6a8c9304e4d043af3",
            "6c6053a03a1743259e8ce252faf95ae4",
            "853c7aad8d3f43f389fcef27973c78e5",
            "8768c6481e5448dabd1913f836c7ecf1",
            "375e5be852da4fa5b940045b2f0b2f2a",
            "95eb5f9fbfe041ce8b2b6c6d45e3ddca",
            "93df78b37b2745ddaa29762b196b9345",
            "d76c69c5013249da876d7d8d58988659"
          ]
        },
        "outputId": "4164ba2f-835e-403a-e531-197d3fd82de6"
      },
      "source": [
        "def load_sst(sst_path):\n",
        "    tokenizer = sacremoses.MosesTokenizer()\n",
        "    results = []\n",
        "    for line in tqdm.tqdm_notebook(pd.read_csv(sst_path, sep=\"\\t\")[\"sentence\"].values):\n",
        "        results.append(tokenizer.tokenize(line))\n",
        "    return results\n",
        "data = load_sst(sst_path)"
      ],
      "execution_count": 45,
      "outputs": [
        {
          "output_type": "display_data",
          "data": {
            "application/vnd.jupyter.widget-view+json": {
              "model_id": "a9635885712945c6a8c9304e4d043af3",
              "version_minor": 0,
              "version_major": 2
            },
            "text/plain": [
              "HBox(children=(IntProgress(value=0, max=11855), HTML(value='')))"
            ]
          },
          "metadata": {
            "tags": []
          }
        },
        {
          "output_type": "stream",
          "text": [
            "\n"
          ],
          "name": "stdout"
        }
      ]
    },
    {
      "cell_type": "code",
      "metadata": {
        "id": "0UTHL4cFIeCx",
        "colab_type": "code",
        "colab": {
          "base_uri": "https://localhost:8080/",
          "height": 34
        },
        "outputId": "63a7943f-4ea0-4cd0-86a2-066f2edb1c30"
      },
      "source": [
        "\" \".join(data[0])"
      ],
      "execution_count": 51,
      "outputs": [
        {
          "output_type": "execute_result",
          "data": {
            "text/plain": [
              "'The Rock is destined to be the 21st Century &apos; s new `` Conan &apos; &apos; and that he &apos; s going to make a splash even greater than Arnold Schwarzenegger , Jean-Claud Van Damme or Steven Segal .'"
            ]
          },
          "metadata": {
            "tags": []
          },
          "execution_count": 51
        }
      ]
    },
    {
      "cell_type": "markdown",
      "metadata": {
        "id": "B4ncGmpye_P1",
        "colab_type": "text"
      },
      "source": [
        "\n",
        "### Question 2.1 [45]\n",
        "\n",
        "Implement:\n",
        "* `get_token_frequencies_and_cooccurrences`\n",
        "* `prune_vocabulary`\n",
        "* `build_cooccurrence_mat_from_counts`\n",
        "\n",
        "Each of these will be used in  `build_cooccurrence_matrix`, which generates the co-occurence matrix for a window of arbitrary size and for the vocabulary of `max_vocab_size` most frequent words. "
      ]
    },
    {
      "cell_type": "code",
      "metadata": {
        "id": "nGMhTNM5NM5j",
        "colab_type": "code",
        "colab": {}
      },
      "source": [
        "def build_cooccurrence_matrix(data, max_vocab_size=20000, context_size=2, verbose=True):\n",
        "    \"\"\" \n",
        "    args:\n",
        "        - data: iterable where each item is a string sentence\n",
        "        - max_vocab_size: maximum vocabulary size\n",
        "        \n",
        "    returns:\n",
        "        - coocur_mat: co-occurrence matrix as a numpy array\n",
        "    \"\"\"\n",
        "    if verbose:\n",
        "        print(\"Counting words...\")\n",
        "    start_time = time.time()\n",
        "    tok2freq, cooccur_counts = get_token_frequencies_and_cooccurrences(data, context_size)\n",
        "    if verbose:\n",
        "        print(\"\\tFinished counting %d words in %.5f\" % (len(tok2freq), time.time() - start_time))\n",
        "        print(\"Pruning vocabulary...\")\n",
        "    tok2idx, idx2tok = prune_vocabulary(tok2freq, max_vocab_size)\n",
        "    start_time = time.time()\n",
        "    if verbose:\n",
        "        print(\"\\tFinished pruning vocabulary to %d words in %.5f\" % (len(tok2idx), time.time() - start_time))\n",
        "        print(\"Building co-occurrence matrix...\")\n",
        "    start_time = time.time()\n",
        "    cooccur_mat = build_cooccurrence_mat_from_counts(idx2tok, cooccur_counts)\n",
        "    if verbose:\n",
        "        print(\"\\tFinished building co-occurrence matrix in %.5f\" % (time.time() - start_time))\n",
        "    return cooccur_mat, tok2idx, idx2tok, cooccur_counts"
      ],
      "execution_count": 0,
      "outputs": []
    },
    {
      "cell_type": "code",
      "metadata": {
        "colab_type": "code",
        "id": "ai5pnuntGjFz",
        "colab": {}
      },
      "source": [
        "from collections import defaultdict\n",
        "\n",
        "def get_token_frequencies_and_cooccurrences(data, context_size):\n",
        "    \"\"\" \n",
        "    Compute token frequencies and cooccurrences from data\n",
        "\n",
        "    args: \n",
        "        - data: a list of list of words (or tokens)\n",
        "        - context_size: the vocabulary size to prune to\n",
        "    \n",
        "    return:\n",
        "        A tuple containing:\n",
        "        - tok2freq: a dictionary mapping from words to count\n",
        "        - cooccur_counts: a dictionary of dictionaries, where\n",
        "\n",
        "              cooccur_counts[word1][word2]\n",
        "\n",
        "          is how often word1 cooccurs with word2 within a given context_size\n",
        "    \"\"\"\n",
        "    tok2freq = defaultdict(int)\n",
        "    cooccur_counts = defaultdict(lambda: defaultdict(int))\n",
        "\n",
        "    for datum in data:\n",
        "        for i, tok in enumerate(datum):\n",
        "            tok2freq[tok] += 1\n",
        "            for k in range(context_size + 1):\n",
        "                # === Exercise Start [1/3] === #\n",
        "                if \n",
        "                cooccur_counts[tok][datum[i+k]] += 1\n",
        "            #start = max(i-context_size,0)\n",
        "            #end = min(i+context_size+1,len(datum))\n",
        "            #context = datum[start:end]\n",
        "            #for k,pos in enumerate(context):\n",
        "              #cooccur_counts[tok][pos] += 1 \n",
        "                # === Exercise End [1/3] === #\n",
        "    return tok2freq, cooccur_counts\n",
        "\n",
        "def prune_vocabulary(tok2freq, max_vocab_size):\n",
        "    \"\"\" \n",
        "    Prune vocab by taking max_vocab_size most frequent words \n",
        "\n",
        "    args: \n",
        "        - tok2freq: a dictionary mapping from words to count\n",
        "        - max_vocab_size: the vocabulary size to prune to\n",
        "    \n",
        "    return:\n",
        "        A tuple containing:\n",
        "        - tok2idx: a dictionary mapping from words to the index in idx2tok\n",
        "        - idx2tok: a list of words (the vocabulary), of length max_vocab_size\n",
        "    \"\"\"\n",
        "    tok_and_freqs = [(k, v) for k, v in tok2freq.items()]\n",
        "    # === Exercise Start [2/3] === #\n",
        "    sorted_tok_and_freqs = sorted(tok_and_freqs, key=lambda x: x[1], reverse=True)\n",
        "    tok2idx = dict(zip([k for (k,v) in sorted_tok_and_freqs[:max_vocab_size]],[v for (k,v) in sorted_tok_and_freqs[:max_vocab_size]]))\n",
        "    idx2tok = [k for (k,v) in sorted_tok_and_freqs[:max_vocab_size]]\n",
        "    # === Exercise End [2/3] === #\n",
        "    return tok2idx, idx2tok\n",
        "\n",
        "def build_cooccurrence_mat_from_counts(idx2tok, cooccur_counts):\n",
        "    \"\"\" Build a cooccurrence matrix from counts and a vocab\n",
        "    args:\n",
        "        - idx2tok: a list of words (the vocabulary), of length N\n",
        "        - cooccur_counts: a dictionary of dictionaries, where\n",
        "\n",
        "              cooccur_counts[word1][word2]\n",
        "\n",
        "          is how often word1 cooccurs with word2\n",
        "    return:\n",
        "        - mat: an NxN matrix (symmetric) of the occurrence counts of the\n",
        "               words in idx2tok\n",
        "    \"\"\"\n",
        "    vocab_size = len(idx2tok)\n",
        "    mat = np.zeros([vocab_size, vocab_size])\n",
        "    for i in tqdm.tqdm_notebook(range(vocab_size)):\n",
        "        for j in range(i, vocab_size):\n",
        "            # === Exercise Start [3/3] === #\n",
        "            mat[i][j] = cooccur_counts[idx2tok[i]][idx2tok[j]]\n",
        "            # === Exercise End [3/3] === #\n",
        "    return mat"
      ],
      "execution_count": 0,
      "outputs": []
    },
    {
      "cell_type": "markdown",
      "metadata": {
        "id": "LfImY8VcNl5z",
        "colab_type": "text"
      },
      "source": [
        "Let's build a cooccurrence matrix with `context_size=2`."
      ]
    },
    {
      "cell_type": "code",
      "metadata": {
        "id": "oaIAY8oTEXLP",
        "colab_type": "code",
        "colab": {
          "base_uri": "https://localhost:8080/",
          "height": 168,
          "referenced_widgets": [
            "e56fb396ad8c478388a18f32e69546c5",
            "82f81beffaf14d5f8fe02a8008d22394",
            "03049b20e018431f8956422e85906c6d",
            "4261b1562bc44fa28f7287abeddcf4b6",
            "fd251bc6ad884170a695e198d0a887e1",
            "81aae6c5e3454594ad08a579aaf5fe03",
            "1f2e9eca6e994787aa202e0eaf845b8c",
            "f396a4bb50f9439fb1e4d59a0e3d139e"
          ]
        },
        "outputId": "9f464b0f-616c-4a75-acdf-9db723059e15"
      },
      "source": [
        "mat, tok2idx, idx2tok, cooccur_count = build_cooccurrence_matrix(data, max_vocab_size=10000, context_size=2)"
      ],
      "execution_count": 79,
      "outputs": [
        {
          "output_type": "stream",
          "text": [
            "Counting words...\n",
            "\tFinished counting 21669 words in 0.70257\n",
            "Pruning vocabulary...\n",
            "\tFinished pruning vocabulary to 10000 words in 0.00000\n",
            "Building co-occurrence matrix...\n"
          ],
          "name": "stdout"
        },
        {
          "output_type": "display_data",
          "data": {
            "application/vnd.jupyter.widget-view+json": {
              "model_id": "e56fb396ad8c478388a18f32e69546c5",
              "version_minor": 0,
              "version_major": 2
            },
            "text/plain": [
              "HBox(children=(IntProgress(value=0, max=10000), HTML(value='')))"
            ]
          },
          "metadata": {
            "tags": []
          }
        },
        {
          "output_type": "stream",
          "text": [
            "\n",
            "\tFinished building co-occurrence matrix in 32.37741\n"
          ],
          "name": "stdout"
        }
      ]
    },
    {
      "cell_type": "code",
      "metadata": {
        "id": "aNe_CAgre_QK",
        "colab_type": "code",
        "colab": {
          "base_uri": "https://localhost:8080/",
          "height": 34
        },
        "outputId": "34dbe4e3-35e8-4741-dc9a-77d392520100"
      },
      "source": [
        "tok1 = \"the\"\n",
        "tok2 = \"end\"\n",
        "print(\"'{}' and '{}' co-occur {} times\".format(tok1, tok2, mat[tok2idx[tok1]][tok2idx[tok2]]))"
      ],
      "execution_count": 80,
      "outputs": [
        {
          "output_type": "stream",
          "text": [
            "'the' and 'end' co-occur 0.0 times\n"
          ],
          "name": "stdout"
        }
      ]
    },
    {
      "cell_type": "code",
      "metadata": {
        "id": "duAZWiH_XxKS",
        "colab_type": "code",
        "colab": {
          "base_uri": "https://localhost:8080/",
          "height": 68
        },
        "outputId": "36fb42d2-1fbe-4bbc-a7fc-c89b71965ce9"
      },
      "source": [
        "word = idx2tok[1]\n",
        "print(word)\n",
        "print(cooccur_count[1][1])\n",
        "print(mat[1][1])"
      ],
      "execution_count": 81,
      "outputs": [
        {
          "output_type": "stream",
          "text": [
            ",\n",
            "0\n",
            "11173.0\n"
          ],
          "name": "stdout"
        }
      ]
    },
    {
      "cell_type": "markdown",
      "metadata": {
        "id": "h_iprP4ve_QQ",
        "colab_type": "text"
      },
      "source": [
        "### Question 2.2 [15]\n",
        "\n",
        "We are going to evaluate the effect of varying context size in $\\{1, 2, 3, 4\\}$ (leaving all the other settings the same) on the quality of the learned word embeddings, as measured by performance (Spearman correlation) on the word similarity dataset [MTurk-771](http://www2.mta.ac.il/~gideon/mturk771.html) between human judgments and cosine similarity of the learned word vectors (the coccurrence matrices).\n",
        "\n",
        "In this exercise, you will fill in parts of the code in the `evaluate_word_similarity` function. (Hint: make use of the imports we include at the top of the code block; the solution should be pretty short!)"
      ]
    },
    {
      "cell_type": "code",
      "metadata": {
        "id": "ktX17VQ9MjCH",
        "colab_type": "code",
        "colab": {}
      },
      "source": [
        "# Hint: some helpful imports!\n",
        "from scipy.stats import spearmanr\n",
        "from sklearn.metrics.pairwise import cosine_similarity\n",
        "\n",
        "\n",
        "def load_word_similarity_dataset(data_file):\n",
        "    mturk_df = pd.read_csv(mturk_path, names=[\"word1\", \"word2\", \"similarity\"])\n",
        "    return mturk_df\n",
        "\n",
        "\n",
        "def evaluate_word_similarity(mturk_df, mat, tok2idx):\n",
        "    \"\"\" Evaluate the word embeddings by comparing the word similarities \n",
        "        to the word similarity scores from the MTurk-771 data.\n",
        "    Notes:\n",
        "        - In some cases, the words in the MTurk-771 data may not appear in \n",
        "          our vocabulary. In those cases, we will simpy skip over those\n",
        "          MTurk-771 examples.\n",
        "        - Use cosine_similarity to compute word similarities, and use\n",
        "          spearmanr to compute the overall rank correlation.\n",
        "\n",
        "    args:\n",
        "        - mturk_df: DataFrame of MTurk-711 data\n",
        "        - mat: cooccurrence matrix computed from above. These will serve as \n",
        "               our word embeddings.\n",
        "        - idx2tok: a list of words (the vocabulary), of length N\n",
        "\n",
        "    return:\n",
        "        - rho: the rank correlation between the predicted word similarities\n",
        "               and the ground truth word similarities from MTurk-771\n",
        "    \"\"\"\n",
        "    preds = []\n",
        "    trgs = []\n",
        "    n_exs = 0\n",
        "    for row in mturk_df.itertuples():\n",
        "        if row.word1 in tok2idx and row.word2 in tok2idx:\n",
        "            # === Exercise Start [1/2] === #\n",
        "            pred_sim = NotImplemented\n",
        "            # === Exercise End [1/2] === #\n",
        "            preds.append(pred_sim)\n",
        "            trgs.append(row.similarity)\n",
        "            n_exs += 1\n",
        "\n",
        "    # === Exercise Start [2/2] === #\n",
        "    rho = NotImplemented\n",
        "    # === Exercise End [2/2] === #\n",
        "    print(\"Evaluated on %d of %d examples\" % (n_exs, len(mturk_df)))\n",
        "    return rho"
      ],
      "execution_count": 0,
      "outputs": []
    },
    {
      "cell_type": "code",
      "metadata": {
        "id": "ksl3dtOhe_QW",
        "colab_type": "code",
        "colab": {}
      },
      "source": [
        "mturk_df = load_word_similarity_dataset(mturk_path)\n",
        "scores = []\n",
        "context_sizes = [1, 2, 3, 4]\n",
        "for context_size in context_sizes:\n",
        "    mat, tok2idx, idx2tok, _ = build_cooccurrence_matrix(data, max_vocab_size=10000, context_size=context_size)\n",
        "    score = evaluate_word_similarity(mturk_df, mat, tok2idx)\n",
        "    scores.append(score)\n",
        "print(scores)"
      ],
      "execution_count": 0,
      "outputs": []
    },
    {
      "cell_type": "code",
      "metadata": {
        "id": "LHOxuRuYBioi",
        "colab_type": "code",
        "colab": {}
      },
      "source": [
        "score = evaluate_word_similarity(mturk_df, mat, tok2idx)"
      ],
      "execution_count": 0,
      "outputs": []
    },
    {
      "cell_type": "code",
      "metadata": {
        "id": "m7ZMgciye_Qa",
        "colab_type": "code",
        "colab": {}
      },
      "source": [
        "plt.plot(context_sizes, scores, marker='o')\n",
        "plt.xlabel(\"Context size\")\n",
        "plt.ylabel(\"Word similarity correlation\")"
      ],
      "execution_count": 0,
      "outputs": []
    },
    {
      "cell_type": "code",
      "metadata": {
        "id": "JvvTXLbne_Qf",
        "colab_type": "code",
        "colab": {}
      },
      "source": [
        ""
      ],
      "execution_count": 0,
      "outputs": []
    }
  ]
}